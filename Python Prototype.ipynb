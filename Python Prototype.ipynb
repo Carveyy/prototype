{
 "cells": [
  {
   "cell_type": "code",
   "execution_count": 1,
   "id": "34be8c3b",
   "metadata": {},
   "outputs": [
    {
     "name": "stdout",
     "output_type": "stream",
     "text": [
      "Collecting package metadata (current_repodata.json): ...working... done\n",
      "Solving environment: ...working... done\n",
      "\n",
      "# All requested packages already installed.\n",
      "\n",
      "Retrieving notices: ...working... done\n",
      "\n",
      "Note: you may need to restart the kernel to use updated packages.\n"
     ]
    }
   ],
   "source": [
    "conda install pandas jupyter"
   ]
  },
  {
   "cell_type": "code",
   "execution_count": 2,
   "id": "c545e90c",
   "metadata": {},
   "outputs": [
    {
     "name": "stdout",
     "output_type": "stream",
     "text": [
      "Requirement already satisfied: gspread in c:\\users\\albert\\anaconda3\\lib\\site-packages (5.6.2)\n",
      "Requirement already satisfied: oauth2client in c:\\users\\albert\\anaconda3\\lib\\site-packages (4.1.3)\n",
      "Requirement already satisfied: df2gspread in c:\\users\\albert\\anaconda3\\lib\\site-packages (1.0.4)\n",
      "Requirement already satisfied: google-auth>=1.12.0 in c:\\users\\albert\\anaconda3\\lib\\site-packages (from gspread) (2.14.1)\n",
      "Requirement already satisfied: google-auth-oauthlib>=0.4.1 in c:\\users\\albert\\anaconda3\\lib\\site-packages (from gspread) (0.7.1)\n",
      "Requirement already satisfied: pyasn1>=0.1.7 in c:\\users\\albert\\anaconda3\\lib\\site-packages (from oauth2client) (0.4.8)\n",
      "Requirement already satisfied: rsa>=3.1.4 in c:\\users\\albert\\anaconda3\\lib\\site-packages (from oauth2client) (4.7.2)\n",
      "Requirement already satisfied: six>=1.6.1 in c:\\users\\albert\\anaconda3\\lib\\site-packages (from oauth2client) (1.16.0)\n",
      "Requirement already satisfied: pyasn1-modules>=0.0.5 in c:\\users\\albert\\anaconda3\\lib\\site-packages (from oauth2client) (0.2.8)\n",
      "Requirement already satisfied: httplib2>=0.9.1 in c:\\users\\albert\\anaconda3\\lib\\site-packages (from oauth2client) (0.21.0)\n",
      "Collecting argparse>=1.3.0\n",
      "  Using cached argparse-1.4.0-py2.py3-none-any.whl (23 kB)\n",
      "Requirement already satisfied: google-api-python-client==1.6.7 in c:\\users\\albert\\anaconda3\\lib\\site-packages (from df2gspread) (1.6.7)\n",
      "Requirement already satisfied: pandas in c:\\users\\albert\\anaconda3\\lib\\site-packages (from df2gspread) (1.4.2)\n",
      "Requirement already satisfied: uritemplate<4dev,>=3.0.0 in c:\\users\\albert\\anaconda3\\lib\\site-packages (from google-api-python-client==1.6.7->df2gspread) (3.0.1)\n",
      "Requirement already satisfied: cachetools<6.0,>=2.0.0 in c:\\users\\albert\\anaconda3\\lib\\site-packages (from google-auth>=1.12.0->gspread) (4.2.2)\n",
      "Requirement already satisfied: requests-oauthlib>=0.7.0 in c:\\users\\albert\\anaconda3\\lib\\site-packages (from google-auth-oauthlib>=0.4.1->gspread) (1.3.1)\n",
      "Requirement already satisfied: pyparsing!=3.0.0,!=3.0.1,!=3.0.2,!=3.0.3,<4,>=2.4.2 in c:\\users\\albert\\anaconda3\\lib\\site-packages (from httplib2>=0.9.1->oauth2client) (3.0.4)\n",
      "Requirement already satisfied: requests>=2.0.0 in c:\\users\\albert\\anaconda3\\lib\\site-packages (from requests-oauthlib>=0.7.0->google-auth-oauthlib>=0.4.1->gspread) (2.27.1)\n",
      "Requirement already satisfied: oauthlib>=3.0.0 in c:\\users\\albert\\anaconda3\\lib\\site-packages (from requests-oauthlib>=0.7.0->google-auth-oauthlib>=0.4.1->gspread) (3.2.2)\n",
      "Requirement already satisfied: charset-normalizer~=2.0.0 in c:\\users\\albert\\anaconda3\\lib\\site-packages (from requests>=2.0.0->requests-oauthlib>=0.7.0->google-auth-oauthlib>=0.4.1->gspread) (2.0.4)\n",
      "Requirement already satisfied: idna<4,>=2.5 in c:\\users\\albert\\anaconda3\\lib\\site-packages (from requests>=2.0.0->requests-oauthlib>=0.7.0->google-auth-oauthlib>=0.4.1->gspread) (3.3)\n",
      "Requirement already satisfied: urllib3<1.27,>=1.21.1 in c:\\users\\albert\\anaconda3\\lib\\site-packages (from requests>=2.0.0->requests-oauthlib>=0.7.0->google-auth-oauthlib>=0.4.1->gspread) (1.26.9)\n",
      "Requirement already satisfied: certifi>=2017.4.17 in c:\\users\\albert\\anaconda3\\lib\\site-packages (from requests>=2.0.0->requests-oauthlib>=0.7.0->google-auth-oauthlib>=0.4.1->gspread) (2021.10.8)\n",
      "Requirement already satisfied: python-dateutil>=2.8.1 in c:\\users\\albert\\anaconda3\\lib\\site-packages (from pandas->df2gspread) (2.8.2)\n",
      "Requirement already satisfied: numpy>=1.18.5 in c:\\users\\albert\\anaconda3\\lib\\site-packages (from pandas->df2gspread) (1.21.5)\n",
      "Requirement already satisfied: pytz>=2020.1 in c:\\users\\albert\\anaconda3\\lib\\site-packages (from pandas->df2gspread) (2021.3)\n",
      "Installing collected packages: argparse\n",
      "Successfully installed argparse-1.4.0\n",
      "Note: you may need to restart the kernel to use updated packages.\n"
     ]
    }
   ],
   "source": [
    "pip install gspread oauth2client df2gspread"
   ]
  },
  {
   "cell_type": "code",
   "execution_count": 3,
   "id": "9c44edf5",
   "metadata": {},
   "outputs": [],
   "source": [
    "import pandas as pd\n",
    "import gspread\n",
    "from oauth2client.service_account import ServiceAccountCredentials\n",
    "from pandas.io.json import json_normalize"
   ]
  },
  {
   "cell_type": "code",
   "execution_count": 4,
   "id": "b1b931b6",
   "metadata": {},
   "outputs": [],
   "source": [
    "scope = ['https://spreadsheets.google.com/feeds']\n",
    "credentials = ServiceAccountCredentials.from_json_keyfile_name('keys.json', scope)\n",
    "gc = gspread.authorize(credentials)"
   ]
  },
  {
   "cell_type": "code",
   "execution_count": 5,
   "id": "ed6ff4ca",
   "metadata": {},
   "outputs": [],
   "source": [
    "spreadsheet_key = '1fNDskSy96usCE90P4Zqe97879OwNzMzcWMSzfwslYGs'\n",
    "book = gc.open_by_key(spreadsheet_key)\n",
    "worksheet = book.worksheet(\"Request Form\")\n",
    "table = worksheet.get_all_values()"
   ]
  },
  {
   "cell_type": "code",
   "execution_count": 6,
   "id": "18b1f50e",
   "metadata": {},
   "outputs": [
    {
     "data": {
      "text/plain": [
       "[['Project Name',\n",
       "  'Design Name',\n",
       "  'Type of Design',\n",
       "  'Deadline',\n",
       "  'Design Dimensions',\n",
       "  'Specific Requests',\n",
       "  'Status'],\n",
       " ['Kutitap',\n",
       "  'Kutitap Poster',\n",
       "  'Poster',\n",
       "  '2022-11-25',\n",
       "  '1920x1080px',\n",
       "  'hi i would like a consultation',\n",
       "  'Taken'],\n",
       " [\"Tyrese's Collection\",\n",
       "  \"Tyrese's Logo\",\n",
       "  'Logo',\n",
       "  '2022-11-26',\n",
       "  '500x500px',\n",
       "  'please see e-mail for specific requests',\n",
       "  'Not Taken'],\n",
       " [\"TJ's Fundraiser\",\n",
       "  \"TJ's Infographic\",\n",
       "  'Infographic',\n",
       "  '2022-11-26',\n",
       "  '1000x1000px',\n",
       "  'no requests, thank you',\n",
       "  'Taken'],\n",
       " [\"Myles's Hangout Party\",\n",
       "  'Hangout Poster',\n",
       "  'Poster',\n",
       "  '2022-11-27',\n",
       "  '300x300px',\n",
       "  'space themed, if possible :))',\n",
       "  'Not Taken']]"
      ]
     },
     "execution_count": 6,
     "metadata": {},
     "output_type": "execute_result"
    }
   ],
   "source": [
    "spreadsheet_key = '1fNDskSy96usCE90P4Zqe97879OwNzMzcWMSzfwslYGs'\n",
    "book = gc.open_by_key(spreadsheet_key)\n",
    "worksheet = book.worksheet(\"Request Form\")\n",
    "table = worksheet.get_all_values()\n",
    "table[:5]"
   ]
  },
  {
   "cell_type": "code",
   "execution_count": 7,
   "id": "93e36295",
   "metadata": {},
   "outputs": [
    {
     "data": {
      "text/html": [
       "<div>\n",
       "<style scoped>\n",
       "    .dataframe tbody tr th:only-of-type {\n",
       "        vertical-align: middle;\n",
       "    }\n",
       "\n",
       "    .dataframe tbody tr th {\n",
       "        vertical-align: top;\n",
       "    }\n",
       "\n",
       "    .dataframe thead th {\n",
       "        text-align: right;\n",
       "    }\n",
       "</style>\n",
       "<table border=\"1\" class=\"dataframe\">\n",
       "  <thead>\n",
       "    <tr style=\"text-align: right;\">\n",
       "      <th></th>\n",
       "      <th>Project Name</th>\n",
       "      <th>Design Name</th>\n",
       "      <th>Type of Design</th>\n",
       "      <th>Deadline</th>\n",
       "      <th>Design Dimensions</th>\n",
       "      <th>Specific Requests</th>\n",
       "      <th>Status</th>\n",
       "    </tr>\n",
       "  </thead>\n",
       "  <tbody>\n",
       "    <tr>\n",
       "      <th>0</th>\n",
       "      <td>Project Name</td>\n",
       "      <td>Design Name</td>\n",
       "      <td>Type of Design</td>\n",
       "      <td>Deadline</td>\n",
       "      <td>Design Dimensions</td>\n",
       "      <td>Specific Requests</td>\n",
       "      <td>Status</td>\n",
       "    </tr>\n",
       "    <tr>\n",
       "      <th>1</th>\n",
       "      <td>Kutitap</td>\n",
       "      <td>Kutitap Poster</td>\n",
       "      <td>Poster</td>\n",
       "      <td>2022-11-25</td>\n",
       "      <td>1920x1080px</td>\n",
       "      <td>hi i would like a consultation</td>\n",
       "      <td>Taken</td>\n",
       "    </tr>\n",
       "    <tr>\n",
       "      <th>2</th>\n",
       "      <td>Tyrese's Collection</td>\n",
       "      <td>Tyrese's Logo</td>\n",
       "      <td>Logo</td>\n",
       "      <td>2022-11-26</td>\n",
       "      <td>500x500px</td>\n",
       "      <td>please see e-mail for specific requests</td>\n",
       "      <td>Not Taken</td>\n",
       "    </tr>\n",
       "    <tr>\n",
       "      <th>3</th>\n",
       "      <td>TJ's Fundraiser</td>\n",
       "      <td>TJ's Infographic</td>\n",
       "      <td>Infographic</td>\n",
       "      <td>2022-11-26</td>\n",
       "      <td>1000x1000px</td>\n",
       "      <td>no requests, thank you</td>\n",
       "      <td>Taken</td>\n",
       "    </tr>\n",
       "    <tr>\n",
       "      <th>4</th>\n",
       "      <td>Myles's Hangout Party</td>\n",
       "      <td>Hangout Poster</td>\n",
       "      <td>Poster</td>\n",
       "      <td>2022-11-27</td>\n",
       "      <td>300x300px</td>\n",
       "      <td>space themed, if possible :))</td>\n",
       "      <td>Not Taken</td>\n",
       "    </tr>\n",
       "  </tbody>\n",
       "</table>\n",
       "</div>"
      ],
      "text/plain": [
       "            Project Name       Design Name  Type of Design    Deadline  \\\n",
       "0           Project Name       Design Name  Type of Design    Deadline   \n",
       "1                Kutitap    Kutitap Poster          Poster  2022-11-25   \n",
       "2    Tyrese's Collection     Tyrese's Logo            Logo  2022-11-26   \n",
       "3        TJ's Fundraiser  TJ's Infographic     Infographic  2022-11-26   \n",
       "4  Myles's Hangout Party    Hangout Poster          Poster  2022-11-27   \n",
       "\n",
       "   Design Dimensions                        Specific Requests     Status  \n",
       "0  Design Dimensions                        Specific Requests     Status  \n",
       "1        1920x1080px           hi i would like a consultation      Taken  \n",
       "2          500x500px  please see e-mail for specific requests  Not Taken  \n",
       "3        1000x1000px                   no requests, thank you      Taken  \n",
       "4          300x300px            space themed, if possible :))  Not Taken  "
      ]
     },
     "execution_count": 7,
     "metadata": {},
     "output_type": "execute_result"
    }
   ],
   "source": [
    "df = pd.DataFrame(table[:5], columns=table[0])\n",
    "df.head()"
   ]
  },
  {
   "cell_type": "code",
   "execution_count": 8,
   "id": "98fdbc4c",
   "metadata": {},
   "outputs": [
    {
     "data": {
      "text/html": [
       "<div>\n",
       "<style scoped>\n",
       "    .dataframe tbody tr th:only-of-type {\n",
       "        vertical-align: middle;\n",
       "    }\n",
       "\n",
       "    .dataframe tbody tr th {\n",
       "        vertical-align: top;\n",
       "    }\n",
       "\n",
       "    .dataframe thead th {\n",
       "        text-align: right;\n",
       "    }\n",
       "</style>\n",
       "<table border=\"1\" class=\"dataframe\">\n",
       "  <thead>\n",
       "    <tr style=\"text-align: right;\">\n",
       "      <th></th>\n",
       "      <th>Project Name</th>\n",
       "      <th>Design Name</th>\n",
       "      <th>Type of Design</th>\n",
       "      <th>Deadline</th>\n",
       "      <th>Design Dimensions</th>\n",
       "      <th>Specific Requests</th>\n",
       "      <th>Status</th>\n",
       "    </tr>\n",
       "  </thead>\n",
       "  <tbody>\n",
       "    <tr>\n",
       "      <th>2</th>\n",
       "      <td>Tyrese's Collection</td>\n",
       "      <td>Tyrese's Logo</td>\n",
       "      <td>Logo</td>\n",
       "      <td>2022-11-26</td>\n",
       "      <td>500x500px</td>\n",
       "      <td>please see e-mail for specific requests</td>\n",
       "      <td>Not Taken</td>\n",
       "    </tr>\n",
       "    <tr>\n",
       "      <th>4</th>\n",
       "      <td>Myles's Hangout Party</td>\n",
       "      <td>Hangout Poster</td>\n",
       "      <td>Poster</td>\n",
       "      <td>2022-11-27</td>\n",
       "      <td>300x300px</td>\n",
       "      <td>space themed, if possible :))</td>\n",
       "      <td>Not Taken</td>\n",
       "    </tr>\n",
       "  </tbody>\n",
       "</table>\n",
       "</div>"
      ],
      "text/plain": [
       "            Project Name     Design Name Type of Design    Deadline  \\\n",
       "2    Tyrese's Collection   Tyrese's Logo           Logo  2022-11-26   \n",
       "4  Myles's Hangout Party  Hangout Poster         Poster  2022-11-27   \n",
       "\n",
       "  Design Dimensions                        Specific Requests     Status  \n",
       "2         500x500px  please see e-mail for specific requests  Not Taken  \n",
       "4         300x300px            space themed, if possible :))  Not Taken  "
      ]
     },
     "execution_count": 8,
     "metadata": {},
     "output_type": "execute_result"
    }
   ],
   "source": [
    "status = ['Not Taken']\n",
    "df[df.Status.isin(status)]"
   ]
  },
  {
   "cell_type": "code",
   "execution_count": null,
   "id": "a5f9f058",
   "metadata": {},
   "outputs": [],
   "source": []
  }
 ],
 "metadata": {
  "kernelspec": {
   "display_name": "Python 3 (ipykernel)",
   "language": "python",
   "name": "python3"
  },
  "language_info": {
   "codemirror_mode": {
    "name": "ipython",
    "version": 3
   },
   "file_extension": ".py",
   "mimetype": "text/x-python",
   "name": "python",
   "nbconvert_exporter": "python",
   "pygments_lexer": "ipython3",
   "version": "3.9.12"
  }
 },
 "nbformat": 4,
 "nbformat_minor": 5
}
